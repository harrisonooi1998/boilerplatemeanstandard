{
 "cells": [
  {
   "cell_type": "code",
   "execution_count": 31,
   "metadata": {},
   "outputs": [],
   "source": [
    "import numpy as np"
   ]
  },
  {
   "cell_type": "code",
   "execution_count": 51,
   "metadata": {},
   "outputs": [
    {
     "data": {
      "text/plain": [
       "{'mean': [[4.0, 5.0, 6.0], [2.0, 5.0, 8.0], 5.0],\n",
       " 'variance': [[6.0, 6.0, 6.0],\n",
       "  [0.6666666666666666, 0.6666666666666666, 0.6666666666666666],\n",
       "  6.666666666666667],\n",
       " 'standard deviation': [[2.449489742783178,\n",
       "   2.449489742783178,\n",
       "   2.449489742783178],\n",
       "  [0.816496580927726, 0.816496580927726, 0.816496580927726],\n",
       "  2.581988897471611],\n",
       " 'max': [[7, 8, 9], [3, 6, 9], 9],\n",
       " 'min': [[1, 2, 3], [1, 4, 7], 1],\n",
       " 'sum': [[12.0, 15.0, 18.0], [6.0, 15.0, 24.0], 45]}"
      ]
     },
     "execution_count": 51,
     "metadata": {},
     "output_type": "execute_result"
    }
   ],
   "source": [
    "import numpy as np\n",
    "def calculate(list):\n",
    "    if len(list) < 9: \n",
    "        print('not enough numbers')\n",
    "    else: \n",
    "        m = np.array(list).reshape(3,3)\n",
    "        f = m.flatten()\n",
    "        \n",
    "        mean0 = np.mean(m, axis = 0, dtype = float).tolist()\n",
    "        mean1 = np.mean(m, axis = 1, dtype = float).tolist()\n",
    "        meanflat = np.mean(f).tolist()\n",
    "        \n",
    "        var0 = np.var(m, axis = 0, dtype = float).tolist()\n",
    "        var1 = np.var(m, axis = 1, dtype = float).tolist()\n",
    "        varflat = np.var(f).tolist()\n",
    "        \n",
    "        std1 = np.std(m, axis = 0, dtype = float).tolist()\n",
    "        std2 = np.std(m, axis = 1, dtype = float).tolist()\n",
    "        stdflat = np.std(f).tolist()\n",
    "        \n",
    "        max1 = np.max(m, axis = 0).tolist()\n",
    "        max2 = np.max(m, axis = 1).tolist()\n",
    "        maxflat = np.max(f).tolist()\n",
    "        \n",
    "        min1 = np.min(m, axis = 0).tolist()\n",
    "        min2 = np.min(m, axis = 1).tolist()\n",
    "        minflat = np.min(f).tolist()\n",
    "        \n",
    "        sum1 = np.sum(m, axis = 0, dtype = float).tolist()\n",
    "        sum2 = np.sum(m, axis = 1, dtype = float).tolist()\n",
    "        sumflat = np.sum(f).tolist()\n",
    "        \n",
    "    calcs = {\n",
    "        'mean':[mean0, mean1, meanflat],\n",
    "        'variance' : [var0, var1, varflat], \n",
    "        'standard deviation' : [std1, std2, stdflat], \n",
    "        'max' : [max1, max2, maxflat], \n",
    "        'min' : [min1, min2, minflat],\n",
    "        'sum' : [sum1, sum2, sumflat]\n",
    "    }\n",
    "    \n",
    "    return calcs \n",
    "\n",
    "calculate([1,2,3,4,5,6,7,8,9])\n"
   ]
  },
  {
   "cell_type": "raw",
   "metadata": {},
   "source": []
  },
  {
   "cell_type": "code",
   "execution_count": 40,
   "metadata": {},
   "outputs": [
    {
     "ename": "NameError",
     "evalue": "name 'm' is not defined",
     "output_type": "error",
     "traceback": [
      "\u001b[1;31m---------------------------------------------------------------------------\u001b[0m",
      "\u001b[1;31mNameError\u001b[0m                                 Traceback (most recent call last)",
      "\u001b[1;32m<ipython-input-40-9a40b379906c>\u001b[0m in \u001b[0;36m<module>\u001b[1;34m\u001b[0m\n\u001b[1;32m----> 1\u001b[1;33m \u001b[0mm\u001b[0m\u001b[1;33m\u001b[0m\u001b[1;33m\u001b[0m\u001b[0m\n\u001b[0m",
      "\u001b[1;31mNameError\u001b[0m: name 'm' is not defined"
     ]
    }
   ],
   "source": []
  },
  {
   "cell_type": "code",
   "execution_count": null,
   "metadata": {},
   "outputs": [],
   "source": []
  },
  {
   "cell_type": "code",
   "execution_count": null,
   "metadata": {},
   "outputs": [],
   "source": []
  },
  {
   "cell_type": "code",
   "execution_count": null,
   "metadata": {},
   "outputs": [],
   "source": []
  }
 ],
 "metadata": {
  "kernelspec": {
   "display_name": "Python 3",
   "language": "python",
   "name": "python3"
  },
  "language_info": {
   "codemirror_mode": {
    "name": "ipython",
    "version": 3
   },
   "file_extension": ".py",
   "mimetype": "text/x-python",
   "name": "python",
   "nbconvert_exporter": "python",
   "pygments_lexer": "ipython3",
   "version": "3.7.6"
  }
 },
 "nbformat": 4,
 "nbformat_minor": 4
}
